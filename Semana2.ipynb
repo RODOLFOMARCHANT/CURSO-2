{
  "metadata": {
    "kernelspec": {
      "name": "python",
      "display_name": "Python (Pyodide)",
      "language": "python"
    },
    "language_info": {
      "codemirror_mode": {
        "name": "python",
        "version": 3
      },
      "file_extension": ".py",
      "mimetype": "text/x-python",
      "name": "python",
      "nbconvert_exporter": "python",
      "pygments_lexer": "ipython3",
      "version": "3.8"
    }
  },
  "nbformat_minor": 4,
  "nbformat": 4,
  "cells": [
    {
      "cell_type": "markdown",
      "source": "# Proyecto Final de Ciencia de Datos\n## Introducción\nEn este proyecto, aplicaremos conceptos de ciencia de datos mediante una serie de ejercicios que demuestran habilidades en Markdown y Python. \n## Lenguajes de Ciencia de Datos\nAlgunos de los lenguajes comúnmente utilizados en la ciencia de datos son:\n1. Python\n2. R\n3. SQL\n4. Julia\n5. Scala\n## Bibliotecas de Ciencia de Datos\nAlgunas bibliotecas populares en ciencia de datos incluyen:\n- Pandas\n- NumPy\n- Matplotlib\n- Scikit-Learn\n- TensorFlow\n- Keras\n## Herramientas de Ciencia de Datos\nA continuación, se muestra una tabla con algunas herramientas de ciencia de datos y su descripción.\n\n| Herramienta            | Descripción                                      |\n|------------------------|--------------------------------------------------|\n| Jupyter Notebook       | Entorno interactivo para ejecutar código         |\n| RStudio                | Entorno para el desarrollo en R                  |\n| Apache Spark           | Herramienta para procesamiento de datos masivos  |\n| TensorFlow             | Librería para construir y entrenar modelos de ML |\n| Tableau                | Herramienta de visualización de datos            |\n## Ejemplos de Expresiones Aritméticas\nEn esta sección, mostramos ejemplos de operaciones aritméticas simples, como suma, resta, multiplicación y división.\n# Ejemplo de multiplicación y suma\na = 5\nb = 10\nresultado = (a * b) + b\nresultado\n# Conversión de minutos a horas\nminutos = 120\nhoras = minutos / 60\nhoras\n# Lista de Objetivos\nobjetivos = [\n    \"Aprender conceptos básicos de ciencia de datos\",\n    \"Familiarizarse con herramientas y lenguajes de ciencia de datos\",\n    \"Desarrollar habilidades en el uso de Jupyter Notebooks\"\n]\nobjetivos\n## Autor\nNombre del Autor: [Rodolfo Marchant Ramírez]\n",
      "metadata": {}
    },
    {
      "cell_type": "code",
      "source": "",
      "metadata": {
        "trusted": true
      },
      "outputs": [],
      "execution_count": null
    }
  ]
}